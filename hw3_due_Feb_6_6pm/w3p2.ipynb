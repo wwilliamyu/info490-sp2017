{
 "cells": [
  {
   "cell_type": "markdown",
   "metadata": {
    "deletable": false,
    "nbgrader": {
     "checksum": "1891bdcd87c6c960df75b6e90b02b234",
     "grade": false,
     "grade_id": "header",
     "locked": true,
     "solution": false
    }
   },
   "source": [
    "If you are not using the `Assignments` tab on the course JupyterHub server to read this notebook, read [Activating the assignments tab](https://github.com/lcdm-uiuc/info490-sp17/blob/master/help/act_assign_tab.md).\n",
    "\n",
    "A few things you should keep in mind when working on assignments:\n",
    "\n",
    "1. Make sure you fill in any place that says `YOUR CODE HERE`. Do **not** write your answer in anywhere else other than where it says `YOUR CODE HERE`. Anything you write anywhere else will be removed or overwritten by the autograder.\n",
    "\n",
    "2. Before you submit your assignment, make sure everything runs as expected. Go to menubar, select _Kernel_, and restart the kernel and run all cells (_Restart & Run all_).\n",
    "\n",
    "3. Do not change the title (i.e. file name) of this notebook.\n",
    "\n",
    "4. Make sure that you save your work (in the menubar, select _File_ → _Save and CheckPoint_)\n",
    "\n",
    "5. You are allowed to submit an assignment multiple times, but only the most recent submission will be graded."
   ]
  },
  {
   "cell_type": "markdown",
   "metadata": {},
   "source": [
    "# Problem 3.2. Supervised Learning: Support Vector Machine\n",
    "\n",
    "In this problem, we will use Support Vector Machine to see if we can use machine learning techniques to predict departure delays at the O'Hare airport (ORD)."
   ]
  },
  {
   "cell_type": "code",
   "execution_count": 3,
   "metadata": {
    "collapsed": false,
    "deletable": false,
    "nbgrader": {
     "checksum": "c1b363e44a3d9ab4dc0291926b33c71a",
     "grade": false,
     "grade_id": "import",
     "locked": true,
     "solution": false
    }
   },
   "outputs": [],
   "source": [
    "% matplotlib inline\n",
    "\n",
    "import seaborn as sns\n",
    "import matplotlib as mpl\n",
    "import matplotlib.pyplot as plt\n",
    "import numpy as np\n",
    "import pandas as pd\n",
    "\n",
    "from sklearn import svm, preprocessing\n",
    "from sklearn.cross_validation import train_test_split\n",
    "from sklearn.utils import check_random_state\n",
    "from sklearn.metrics import accuracy_score\n",
    "\n",
    "from nose.tools import assert_equal, assert_in, assert_is_not\n",
    "from numpy.testing import assert_array_equal, assert_array_almost_equal, assert_almost_equal\n",
    "from pandas.util.testing import assert_frame_equal, assert_index_equal\n",
    "\n",
    "sns.set(style=\"white\")"
   ]
  },
  {
   "cell_type": "markdown",
   "metadata": {},
   "source": [
    "We use the 2001 on-time airline performance data set. We import the following columns:\n",
    "\n",
    "- Column 5: CRSDepTime, scheduled departure time (local, hhmm)\n",
    "- Column 8: UniqueCarrier, unique carrier code\n",
    "- Column 15: DepDelay, departure delay, in minutes\n",
    "- Column 16: Origin, origin IATA airport code\n",
    "- Column 18: Distance, in miles"
   ]
  },
  {
   "cell_type": "code",
   "execution_count": 4,
   "metadata": {
    "collapsed": false,
    "deletable": false,
    "nbgrader": {
     "checksum": "d61f9697709cf4e1dbbd13fcd7804b67",
     "grade": false,
     "grade_id": "read_csv",
     "locked": true,
     "solution": false
    }
   },
   "outputs": [],
   "source": [
    "df = pd.read_csv(\n",
    "    '/home/data_scientist/data/2001.csv',\n",
    "    encoding='latin-1',\n",
    "    usecols=(5, 8, 15, 16, 18)\n",
    "    )"
   ]
  },
  {
   "cell_type": "markdown",
   "metadata": {},
   "source": [
    "In this problem, we use only `AA` flights (American Airlines, the largest airline using the O'Hare airport). Recall that we had an unbalanced data set by using `DepDelay > 15` in Problem 3.1. In this problem, we use `DepDelay > 0` to make our data set more balanced."
   ]
  },
  {
   "cell_type": "code",
   "execution_count": 5,
   "metadata": {
    "collapsed": false,
    "deletable": false,
    "nbgrader": {
     "checksum": "5551032b2841b1f97bd9bc220d694862",
     "grade": false,
     "grade_id": "local",
     "locked": true,
     "solution": false
    }
   },
   "outputs": [],
   "source": [
    "local = df[(df['Origin'] == 'ORD') & (df['UniqueCarrier'] == 'AA')]\n",
    "local = local.drop(['UniqueCarrier', 'Origin'], axis=1) # we don't need the Month and Origin columns anymore.\n",
    "local['Delayed'] = (local['DepDelay'] > 0).astype(np.int) # 1 if a flight was delayed, 0 if not.\n",
    "local = local.drop('DepDelay', axis=1).dropna() # we don't need the DepDelay column."
   ]
  },
  {
   "cell_type": "markdown",
   "metadata": {},
   "source": [
    "Let's compare the number of delayed flights to non-delayed flights and check if we have a balanced data set.\n",
    "\n",
    "```python\n",
    ">>> print('Delayed: {}\\nNot delayed: {}'.format(\n",
    "    (local.Delayed == 0).sum(),\n",
    "    (local.Delayed == 1).sum()\n",
    "    ))\n",
    "```\n",
    "\n",
    "```\n",
    "Delayed: 61932\n",
    "Not delayed: 44006\n",
    "```"
   ]
  },
  {
   "cell_type": "code",
   "execution_count": 6,
   "metadata": {
    "collapsed": false,
    "deletable": false,
    "nbgrader": {
     "checksum": "76f35d1487c081a1dc58253a26663921",
     "grade": false,
     "grade_id": "print_local_delayed",
     "locked": true,
     "solution": false
    }
   },
   "outputs": [
    {
     "name": "stdout",
     "output_type": "stream",
     "text": [
      "Delayed: 61932\n",
      "Not delayed: 44006\n"
     ]
    }
   ],
   "source": [
    "print('Delayed: {}\\nNot delayed: {}'.format(\n",
    "    (local.Delayed == 0).sum(),\n",
    "    (local.Delayed == 1).sum()\n",
    "    ))"
   ]
  },
  {
   "cell_type": "markdown",
   "metadata": {},
   "source": [
    "Let's print the first few columns and see what we'll be working with.\n",
    "\n",
    "```python\n",
    ">>> print(local.head(5))\n",
    "```\n",
    "\n",
    "```\n",
    "        CRSDepTime  Distance  Delayed\n",
    "398444        1905      1846        1\n",
    "398445        1905      1846        1\n",
    "398446        1905      1846        1\n",
    "398447        1905      1846        0\n",
    "398448        1905      1846        1\n",
    "```"
   ]
  },
  {
   "cell_type": "code",
   "execution_count": 7,
   "metadata": {
    "collapsed": false,
    "deletable": false,
    "nbgrader": {
     "checksum": "a21dce3e8525d5c0130ef5fcc3f26831",
     "grade": false,
     "grade_id": "print_local_head",
     "locked": true,
     "solution": false
    }
   },
   "outputs": [
    {
     "name": "stdout",
     "output_type": "stream",
     "text": [
      "        CRSDepTime  Distance  Delayed\n",
      "398444        1905      1846        1\n",
      "398445        1905      1846        1\n",
      "398446        1905      1846        1\n",
      "398447        1905      1846        0\n",
      "398448        1905      1846        1\n"
     ]
    }
   ],
   "source": [
    "print(local.head(5))"
   ]
  },
  {
   "cell_type": "markdown",
   "metadata": {},
   "source": [
    "## Split\n",
    "\n",
    "Write a function named `split()` that takes a DataFrame as its first argument. The second argument `test_column` specifies which column should be used as a label (`Delayed` in our case). All remaining columns except `test_column` should be used for training. In other words, the returned DataFrames `y_train` and `y_test` both have only one column, `test_column`, and `X_train` and `X_test` contain all columns in `df` minus `test_column`.\n",
    "\n",
    "This function is (almost) the same function we wrote in Problem 3.1. You could simply cut and paste the answer. But cut-and-pasting is boring (and it's easier to work with Numpy arrays in this problem), so let's modify the function a little bit and **return Numpy arrays** this time. Pay close attention to the shape of `y_train` and `y_test` arrays: they should be **row vectors**, not column vectors.\n",
    "\n",
    "```python\n",
    ">>> print(local[['Delayed']].values[:5]) # column vector\n",
    "```\n",
    "\n",
    "```\n",
    "[[0]\n",
    " [0]\n",
    " [0]\n",
    " [1]\n",
    " [0]]\n",
    "```\n",
    "\n",
    "```python\n",
    ">>> print(local[['Delayed']].values.shape) # column vector\n",
    "```\n",
    "\n",
    "```\n",
    "(341284, 1)\n",
    "```\n",
    "\n",
    "```python\n",
    ">>> print(local_delayed_as_a_row_vector[:5])\n",
    "```\n",
    "\n",
    "```\n",
    "[0 0 0 1 0]\n",
    "```\n",
    "\n",
    "```python\n",
    ">>> print(local_deayed_as_a_row_vector.shape)\n",
    "(341284,)\n",
    "```\n",
    "\n",
    "Don't forget that we have to pass an instance of `check_random_state()` to the `train_test_split()` function for reproducibility."
   ]
  },
  {
   "cell_type": "code",
   "execution_count": 8,
   "metadata": {
    "collapsed": false,
    "deletable": false,
    "nbgrader": {
     "checksum": "5f841553427856f3d27daac0032fb847",
     "grade": false,
     "grade_id": "split_answer",
     "locked": false,
     "solution": true
    }
   },
   "outputs": [],
   "source": [
    "def split(df, test_column, test_size, random_state):\n",
    "    '''\n",
    "    Uses sklearn.train_test_split to split \"df\" into a testing set and a test set.\n",
    "    The \"test_columns\" lists the column that we are trying to predict.\n",
    "    All columns in \"df\" except \"test_columns\" will be used for training.\n",
    "    The \"test_size\" should be between 0.0 and 1.0 and represents the proportion of the\n",
    "    dataset to include in the test split.\n",
    "    The \"random_state\" parameter is used in sklearn.train_test_split.\n",
    "    \n",
    "    Parameters\n",
    "    ----------\n",
    "    df: A pandas.DataFrame\n",
    "    test_columns: A list of strings\n",
    "    test_size: A float\n",
    "    random_state: A numpy.random.RandomState instance\n",
    "    \n",
    "    Returns\n",
    "    -------\n",
    "    A 4-tuple of numpy.ndarrays\n",
    "    '''\n",
    "    # YOUR CODE HERE\n",
    "    df1 = df.drop(test_column, 1) # create new df without test_column\n",
    "    # split into train and test sets\n",
    "    (X_train, X_test, y_train, y_test) = train_test_split(df1, df[test_column], test_size=test_size, random_state=random_state)\n",
    "    \n",
    "    return X_train, X_test, np.ravel(y_train), np.ravel(y_test)"
   ]
  },
  {
   "cell_type": "markdown",
   "metadata": {},
   "source": [
    "Now we will split `local` into a training set and a test set. We won't use a validation set this time, because training SVM is more computationally expensive than training a $k$-Nearest Neighbors. However, keep in mind that SVM also has hyperparameters that need to be tuned, e.g., `kernel`, `C`, or `gamma` values. In practice, you should create a validation set, or preferably perform a cross-validation."
   ]
  },
  {
   "cell_type": "code",
   "execution_count": 9,
   "metadata": {
    "collapsed": false,
    "deletable": false,
    "nbgrader": {
     "checksum": "e3637ec3d48bef773e9205b1c0b197b8",
     "grade": false,
     "grade_id": "split_run",
     "locked": true,
     "solution": false
    }
   },
   "outputs": [],
   "source": [
    "X_train, X_test, y_train, y_test = split(\n",
    "    df=local,\n",
    "    test_column=['Delayed'],\n",
    "    test_size=0.4,\n",
    "    random_state=check_random_state(0)\n",
    "    )\n"
   ]
  },
  {
   "cell_type": "markdown",
   "metadata": {},
   "source": [
    "Tests."
   ]
  },
  {
   "cell_type": "code",
   "execution_count": 10,
   "metadata": {
    "collapsed": false,
    "deletable": false,
    "nbgrader": {
     "checksum": "bb1754c8ca5c4c7c0355d7aa971a8b05",
     "grade": true,
     "grade_id": "split_test",
     "locked": true,
     "points": 10,
     "solution": false
    }
   },
   "outputs": [],
   "source": [
    "n_samples_train, n_features_train = X_train.shape\n",
    "n_samples_test, n_features_test = X_test.shape\n",
    "\n",
    "assert_equal(n_features_train, 2)\n",
    "assert_equal(n_features_test, 2)\n",
    "n_features = n_features_train\n",
    "\n",
    "assert_equal(np.abs(n_samples_train - np.round(len(local) * 0.6)) <= 1, True)\n",
    "assert_equal(np.abs(n_samples_test - np.round(len(local) * 0.4)) <= 1, True)\n",
    "\n",
    "assert_array_equal(X_train[:5],\n",
    "    np.array(\n",
    "        [[ 1500.,  1846.],\n",
    "         [ 1415.,   802.],\n",
    "         [ 1138.,   409.],\n",
    "         [ 1649.,   723.],\n",
    "         [ 1835.,   678.]]\n",
    "        ))\n",
    "assert_array_equal(X_test[:5],\n",
    "    np.array(\n",
    "        [[  645.,  1745.],\n",
    "         [  620.,   622.],\n",
    "         [  645.,  1745.],\n",
    "         [ 2040.,   678.],\n",
    "         [  835.,   268.]]\n",
    "        ))\n",
    "\n",
    "assert_array_equal(y_train[:10], np.array([1, 0, 1, 0, 1, 1, 1, 1, 0, 1]))\n",
    "assert_array_equal(y_test[:10], np.array([1, 1, 0, 0, 0, 0, 0, 1, 1, 1]))"
   ]
  },
  {
   "cell_type": "markdown",
   "metadata": {},
   "source": [
    "## Scale\n",
    "\n",
    "In Problem 3.1, we saw that the columns we want to use for training have different scales, so we scaled each column to the [0, 1] range. For SVM, we will scale features to be in [-1, 1] range."
   ]
  },
  {
   "cell_type": "code",
   "execution_count": 11,
   "metadata": {
    "collapsed": false,
    "deletable": false,
    "nbgrader": {
     "checksum": "ac72ea7513a2140b34b767f2635fcf55",
     "grade": false,
     "grade_id": "standardize_answer",
     "locked": false,
     "solution": true
    }
   },
   "outputs": [],
   "source": [
    "def standardize(df):\n",
    "    '''\n",
    "    Takes a dataframe and normlizes features to be in range [0, 1].\n",
    "    \n",
    "    Parameters\n",
    "    ----------\n",
    "    df: A pandas.DataFrame\n",
    "    \n",
    "    Returns\n",
    "    -------\n",
    "    A pandas.DataFrame\n",
    "    '''\n",
    "    # YOUR CODE HERE\n",
    "    \n",
    "    import sklearn.preprocessing as pp #import in YOURCODEHERE\n",
    "    # use minmaxscaler to scale\n",
    "    mms = pp.MinMaxScaler([-1, 1])\n",
    "    # create new df with the fit_transform\n",
    "    scaled = pd.DataFrame(mms.fit_transform(df))\n",
    "    # restore old col, index\n",
    "    scaled.columns = df.columns\n",
    "    scaled.index = df.index\n",
    "    \n",
    "    return scaled"
   ]
  },
  {
   "cell_type": "code",
   "execution_count": 12,
   "metadata": {
    "collapsed": false,
    "deletable": false,
    "nbgrader": {
     "checksum": "328391af4c939f97dfdcf5733b2d8da9",
     "grade": true,
     "grade_id": "standardize_test",
     "locked": true,
     "points": 10,
     "solution": false
    }
   },
   "outputs": [],
   "source": [
    "df0 = pd.DataFrame({\n",
    "    'a': [0, 1, 2, 3, 4],\n",
    "    'b': [-50, -20, 10, 45, 50],\n",
    "    'c': [-200, 450, 100, 500, -500]\n",
    "    })\n",
    "test1 = standardize(df0)\n",
    "answer1 = pd.DataFrame({\n",
    "        'a': [ -1., -0.5, 0., 0.5, 1.],\n",
    "        'b': [ -1., -0.4, 0.2, 0.9, 1.],\n",
    "        'c': [ -0.4, 0.9, 0.2, 1., -1.]\n",
    "    })\n",
    "assert_frame_equal(test1, answer1)\n"
   ]
  },
  {
   "cell_type": "code",
   "execution_count": 13,
   "metadata": {
    "collapsed": false,
    "deletable": false,
    "nbgrader": {
     "checksum": "c1f6d46e1aca7091ea9afe0f42c6a1c6",
     "grade": false,
     "grade_id": "standardize_run",
     "locked": true,
     "solution": false
    }
   },
   "outputs": [],
   "source": [
    "X_train_scaled, X_test_scaled = map(standardize, [X_train, X_test])"
   ]
  },
  {
   "cell_type": "markdown",
   "metadata": {},
   "source": [
    "## Train SVM\n",
    "\n",
    "Now that we have standardized the training set, we are ready to apply the SVM algorithm.\n",
    "\n",
    "Write a function named `fit_and_predict()`. It should return a tuple of `(svm.SVC, np.ndarray)`."
   ]
  },
  {
   "cell_type": "code",
   "execution_count": 14,
   "metadata": {
    "collapsed": true,
    "deletable": false,
    "nbgrader": {
     "checksum": "c459175b08e30c3a62108cc7ed8f88fa",
     "grade": false,
     "grade_id": "fit_and_predict_answer",
     "locked": false,
     "solution": true
    }
   },
   "outputs": [],
   "source": [
    "def fit_and_predict(X_train, y_train, X_test, kernel):\n",
    "    '''\n",
    "    Fits a Support Vector Machine on the training data on \"X_train\" and \"y_train\".\n",
    "    Returns the predicted values on \"X_test\".\n",
    "    \n",
    "    Parameters\n",
    "    ----------\n",
    "    X_train: A numpy.ndarray\n",
    "    y_train: A numpy.ndarray\n",
    "    X_test: A numpy.ndarray\n",
    "    kernel: A string that specifies kernel to be used in SVM\n",
    "    \n",
    "    Returns\n",
    "    -------\n",
    "    model: An svm.SVC instance trained on \"X_train\" and \"y_train\"\n",
    "    y_pred: A numpy array. Values predicted by \"model\" on \"X_test\"\n",
    "    '''\n",
    "    # YOUR CODE HERE\n",
    "    \n",
    "    # create SVC instance with SVM kernel\n",
    "    model = svm.SVC(kernel=kernel)\n",
    "    # fit the model, generate prediction\n",
    "    model.fit(X_train, y_train)\n",
    "    y_pred = model.predict(X_test)\n",
    "\n",
    "    return model, y_pred"
   ]
  },
  {
   "cell_type": "markdown",
   "metadata": {},
   "source": [
    "Training SVM on `X_train` and `y_train` will take a while, so let's first make sure that the function works correctly."
   ]
  },
  {
   "cell_type": "code",
   "execution_count": 15,
   "metadata": {
    "collapsed": false,
    "deletable": false,
    "nbgrader": {
     "checksum": "95fac1f85829409dc2d598218bb2bdcf",
     "grade": true,
     "grade_id": "fit_and_predict_test",
     "locked": true,
     "points": 10,
     "solution": false
    }
   },
   "outputs": [],
   "source": [
    "# toy sample\n",
    "X_train_t = [[-2, -1], [-1, -1], [-1, -2], [1, 1], [1, 2], [2, 1]]\n",
    "y_train_t = [1, 1, 1, 2, 2, 2]\n",
    "X_test_t = [[-1, -1], [2, 2], [3, 2]]\n",
    "y_test_t = [1, 2, 2]\n",
    "\n",
    "model1, pred1 = fit_and_predict(X_train_t, y_train_t, X_test_t, 'linear')\n",
    "assert_equal(isinstance(model1, svm.SVC), True)\n",
    "assert_equal(model1.kernel, 'linear')\n",
    "assert_array_equal(pred1, y_test_t)\n",
    "\n",
    "model2, pred2 = fit_and_predict(X_train_t, y_train_t, X_test_t, 'rbf')\n",
    "assert_equal(model2.kernel, 'rbf')\n",
    "assert_array_equal(pred2, y_test_t)"
   ]
  },
  {
   "cell_type": "markdown",
   "metadata": {},
   "source": [
    "Run the following cell to actually train on the flights data. It might take a while."
   ]
  },
  {
   "cell_type": "code",
   "execution_count": 16,
   "metadata": {
    "collapsed": false,
    "deletable": false,
    "nbgrader": {
     "checksum": "4a05a776b33e9faa1b218fab0f5d7d0d",
     "grade": false,
     "grade_id": "fit_and_predict_run",
     "locked": true,
     "solution": false
    }
   },
   "outputs": [],
   "source": [
    "clf, y_pred = fit_and_predict(X_train_scaled, y_train, X_test_scaled, 'rbf')"
   ]
  },
  {
   "cell_type": "markdown",
   "metadata": {},
   "source": [
    "Let's see what the accuracy score is."
   ]
  },
  {
   "cell_type": "code",
   "execution_count": 17,
   "metadata": {
    "collapsed": false,
    "deletable": false,
    "nbgrader": {
     "checksum": "e55cea295dea8d5fac7e64c9e18bd528",
     "grade": false,
     "grade_id": "fit_and_predict_print",
     "locked": true,
     "solution": false
    }
   },
   "outputs": [
    {
     "name": "stdout",
     "output_type": "stream",
     "text": [
      "0.593779497829\n"
     ]
    }
   ],
   "source": [
    "print(accuracy_score(y_test, y_pred))"
   ]
  },
  {
   "cell_type": "markdown",
   "metadata": {},
   "source": [
    "It looks like using only two features `CRSDepTime` and `Distance` really hurt our performance (and predicting flight delays is a hard problem). To improve performance, we probably need to include more features, and not just the features provided in `2001.csv`, but data from other sources. For example, I would guess that weather has a significant impact on flights delays. One possibility is to find historical weather data (which will likely require using techniques you learned in the previous course) and include weather as a feature.\n",
    "\n",
    "## Confusion matrix\n",
    "\n",
    "Plot a a colored heatmap that displays the relationship between predicted and actual types. The `plot_confusion()` function must return a `maplotlib.axes.Axes` object. Use `numpy.histogram2d()` and `seaborn.heatmap()` as demonstrated in lesson 1. Here's an exmaple:\n",
    "\n",
    "![](https://raw.githubusercontent.com/UI-DataScience/info490-sp16/master/Week3/assignments/images/svm_confusion.png)"
   ]
  },
  {
   "cell_type": "code",
   "execution_count": 37,
   "metadata": {
    "collapsed": false,
    "deletable": false,
    "nbgrader": {
     "checksum": "b0fa5c43703959fa053265e379db9029",
     "grade": false,
     "grade_id": "plot_confusion_answer",
     "locked": false,
     "solution": true
    }
   },
   "outputs": [],
   "source": [
    "def plot_confusion():\n",
    "    '''\n",
    "    Plots a confusion matrix using numpy.histogram2d() and seaborn.heatmap().\n",
    "    Returns a maptlotlib.axes.Axes instance.\n",
    "    '''\n",
    "    # YOUR CODE HERE\n",
    "    \n",
    "    # generate model, prediction\n",
    "    H, x, y = np.histogram2d(np.ravel(y_test), np.ravel(y_pred), bins=2)\n",
    "    \n",
    "    # create new dataframe\n",
    "    df = pd.DataFrame(H).astype(int)\n",
    "    df.columns=['Not delayed','Delayed']\n",
    "    df.index=['Not delayed','Delayed']\n",
    "    \n",
    "    # actual graph\n",
    "    ax = sns.heatmap(df, annot=True, fmt='d')\n",
    "    ax.set_title('Confusion matrix for SVM')\n",
    "\n",
    "    return ax"
   ]
  },
  {
   "cell_type": "code",
   "execution_count": 38,
   "metadata": {
    "collapsed": false,
    "deletable": false,
    "nbgrader": {
     "checksum": "9f3d95c61088364e89b9095d190ed68b",
     "grade": false,
     "grade_id": "plot_confusion_run",
     "locked": true,
     "solution": false
    }
   },
   "outputs": [
    {
     "data": {
      "image/png": "[encoded data removed]",
      "text/plain": [
       "<matplotlib.figure.Figure at 0x7fdc680ea358>"
      ]
     },
     "metadata": {},
     "output_type": "display_data"
    }
   ],
   "source": [
    "ax = plot_confusion()"
   ]
  },
  {
   "cell_type": "code",
   "execution_count": 61,
   "metadata": {
    "collapsed": false,
    "deletable": false,
    "nbgrader": {
     "checksum": "112677c635cff618251de22df95f8d2e",
     "grade": true,
     "grade_id": "plot_confusion_test",
     "locked": true,
     "points": 10,
     "solution": false
    }
   },
   "outputs": [],
   "source": [
    "assert_equal(isinstance(ax, mpl.axes.Axes), True, msg=\"Your function should return a matplotlib.axes.Axes object.\")\n",
    "\n",
    "texts = [t.get_text() for t in ax.texts]\n",
    "assert_equal(texts, ['14971', '2712', '22450', '2243'])\n",
    "             \n",
    "x_tick_labels = [l.get_text() for l in ax.get_xticklabels()]\n",
    "y_tick_labels = [l.get_text() for l in ax.get_yticklabels()]\n",
    "assert_equal(y_tick_labels, ['Delayed', 'Not delayed'])\n",
    "\n",
    "assert_is_not(len(ax.title.get_text()), 0, msg=\"Your plot doesn't have a title.\")"
   ]
  }
 ],
 "metadata": {
  "kernelspec": {
   "display_name": "Python 3",
   "language": "python",
   "name": "python3"
  },
  "language_info": {
   "codemirror_mode": {
    "name": "ipython",
    "version": 3
   },
   "file_extension": ".py",
   "mimetype": "text/x-python",
   "name": "python",
   "nbconvert_exporter": "python",
   "pygments_lexer": "ipython3",
   "version": "3.5.2"
  }
 },
 "nbformat": 4,
 "nbformat_minor": 0
}
